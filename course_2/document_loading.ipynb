{
 "cells": [
  {
   "cell_type": "markdown",
   "metadata": {},
   "source": [
    "# Document Loading"
   ]
  },
  {
   "cell_type": "markdown",
   "metadata": {},
   "source": [
    "## Retrieval augmented generation\n",
    " \n",
    "In retrieval augmented generation (RAG), an LLM retrieves contextual documents from an external dataset as part of its execution. \n",
    "\n",
    "This is useful if we want to ask question about specific documents (e.g., our PDFs, a set of videos, etc). "
   ]
  },
  {
   "cell_type": "markdown",
   "metadata": {},
   "source": [
    "![image.png](./img/RAG.jpg)"
   ]
  },
  {
   "cell_type": "code",
   "execution_count": null,
   "metadata": {},
   "outputs": [],
   "source": [
    "#! pip install langchain"
   ]
  },
  {
   "cell_type": "code",
   "execution_count": 1,
   "metadata": {},
   "outputs": [],
   "source": [
    "import os\n",
    "from langchain_openai import OpenAI\n",
    "from dotenv import load_dotenv, find_dotenv\n",
    "\n",
    "_ = load_dotenv(find_dotenv())\n",
    "\n",
    "client = OpenAI(\n",
    "    # defaults to os.environ.get(\"OPENAI_API_KEY\")\n",
    "    api_key=os.getenv(\"OPENAI_API_KEY\")\n",
    ")"
   ]
  },
  {
   "cell_type": "markdown",
   "metadata": {},
   "source": [
    "## PDFs\n",
    "\n",
    "Let's load a PDF [transcript](https://see.stanford.edu/materials/aimlcs229/transcripts/MachineLearning-Lecture01.pdf) from Andrew Ng's famous CS229 course! These documents are the result of automated transcription so words and sentences are sometimes split unexpectedly."
   ]
  },
  {
   "cell_type": "code",
   "execution_count": 2,
   "metadata": {},
   "outputs": [],
   "source": [
    "# Ignore this cell its for downloading folders from deeplearning.ai\n",
    "import os\n",
    "import zipfile\n",
    "\n",
    "\n",
    "def zip_directory(folder_path, zip_path):\n",
    "    \"\"\"Zip the contents of a folder (including subfolders) and preserve directory structure\"\"\"\n",
    "    with zipfile.ZipFile(zip_path, \"w\", zipfile.ZIP_DEFLATED) as zip_file:\n",
    "        for root, dirs, files in os.walk(folder_path):\n",
    "            for file in files:\n",
    "                file_path = os.path.join(root, file)\n",
    "                zip_file.write(file_path, os.path.relpath(file_path, folder_path))\n",
    "\n",
    "\n",
    "# Usage\n",
    "# zip_directory('img', 'img.zip')"
   ]
  },
  {
   "cell_type": "code",
   "execution_count": 3,
   "metadata": {},
   "outputs": [],
   "source": [
    "from langchain.document_loaders import PyPDFLoader\n",
    "\n",
    "loader = PyPDFLoader(\"docs/cs229_lectures/MachineLearning-Lecture01.pdf\")\n",
    "pages = loader.load()"
   ]
  },
  {
   "cell_type": "markdown",
   "metadata": {},
   "source": [
    "Each page is a `Document`.\n",
    "\n",
    "A `Document` contains text (`page_content`) and `metadata`."
   ]
  },
  {
   "cell_type": "code",
   "execution_count": 4,
   "metadata": {},
   "outputs": [
    {
     "data": {
      "text/plain": [
       "22"
      ]
     },
     "execution_count": 4,
     "metadata": {},
     "output_type": "execute_result"
    }
   ],
   "source": [
    "len(pages)"
   ]
  },
  {
   "cell_type": "code",
   "execution_count": 5,
   "metadata": {},
   "outputs": [
    {
     "name": "stdout",
     "output_type": "stream",
     "text": [
      "MachineLearning-Lecture01  \n",
      "Instructor (Andrew Ng):  Okay. Good morning. Welcome to CS229, the machine \n",
      "learning class. So what I wanna do today is ju st spend a little time going over the logistics \n",
      "of the class, and then we'll start to  talk a bit about machine learning.  \n",
      "By way of introduction, my name's  Andrew Ng and I'll be instru ctor for this class. And so \n",
      "I personally work in machine learning, and I' ve worked on it for about 15 years now, and \n",
      "I actually think that machine learning is th e most exciting field of all the computer \n",
      "sciences. So I'm actually always excited about  teaching this class. Sometimes I actually \n",
      "think that machine learning is not only the most exciting thin g in computer science, but \n",
      "the most exciting thing in all of human e ndeavor, so maybe a little bias there.  \n",
      "I also want to introduce the TAs, who are all graduate students doing research in or \n",
      "related to the machine learni ng and all aspects of machin e learning. Paul Baumstarck \n",
      "works in machine learning and computer vision.  Catie Chang is actually a neuroscientist \n",
      "who applies machine learning algorithms to try to understand the human brain. Tom Do \n",
      "is another PhD student, works in computa tional biology and in sort of the basic \n",
      "fundamentals of human learning. Zico Kolter is  the head TA — he's head TA two years \n",
      "in a row now — works in machine learning a nd applies them to a bunch of robots. And \n",
      "Daniel Ramage is — I guess he's not here  — Daniel applies l earning algorithms to \n",
      "problems in natural language processing.  \n",
      "So you'll get to know the TAs and me much be tter throughout this quarter, but just from \n",
      "the sorts of things the TA's do, I hope you can  already tell that machine learning is a \n",
      "highly interdisciplinary topic in which just the TAs find l earning algorithms to problems \n",
      "in computer vision and biology and robots a nd language. And machine learning is one of \n",
      "those things that has and is having a large impact on many applications.  \n",
      "So just in my own daily work, I actually frequently end up talking to people like \n",
      "helicopter pilots to biologists to people in  computer systems or databases to economists \n",
      "and sort of also an unending stream of  people from industry coming to Stanford \n",
      "interested in applying machine learni ng methods to their own problems.  \n",
      "So yeah, this is fun. A couple of weeks ago, a student actually forwar ded to me an article \n",
      "in \"Computer World\" about the 12 IT skills th at employers can't say no to. So it's about \n",
      "sort of the 12 most desirabl e skills in all of IT and all of information technology, and \n",
      "topping the list was actually machine lear ning. So I think this is a good time to be \n",
      "learning this stuff and learning algorithms and having a large impact on many segments \n",
      "of science and industry.  \n",
      "I'm actually curious about something. Learni ng algorithms is one of the things that \n",
      "touches many areas of science and industrie s, and I'm just kind of curious. How many \n",
      "people here are computer science majors, are in the computer science department? Okay. \n",
      "About half of you. How many people are from  EE? Oh, okay, maybe about a fifth. How \n"
     ]
    }
   ],
   "source": [
    "page = pages[0]\n",
    "print(page.page_content)"
   ]
  },
  {
   "cell_type": "code",
   "execution_count": 6,
   "metadata": {},
   "outputs": [
    {
     "name": "stdout",
     "output_type": "stream",
     "text": [
      "{'page': 0, 'source': 'docs/cs229_lectures/MachineLearning-Lecture01.pdf'}\n"
     ]
    }
   ],
   "source": [
    "from pprint import pprint\n",
    "\n",
    "\n",
    "pprint(page.metadata)"
   ]
  },
  {
   "cell_type": "markdown",
   "metadata": {},
   "source": [
    "## YouTube"
   ]
  },
  {
   "cell_type": "code",
   "execution_count": 7,
   "metadata": {},
   "outputs": [],
   "source": [
    "from langchain.document_loaders.generic import GenericLoader\n",
    "from langchain.document_loaders.parsers import OpenAIWhisperParser\n",
    "from langchain.document_loaders.blob_loaders.youtube_audio import YoutubeAudioLoader"
   ]
  },
  {
   "cell_type": "code",
   "execution_count": null,
   "metadata": {},
   "outputs": [],
   "source": [
    "# ! pip install yt_dlp\n",
    "# ! pip install pydub\n",
    "# ! pip install ffmpeg\n",
    "# ! pip install ffprobe"
   ]
  },
  {
   "cell_type": "markdown",
   "metadata": {},
   "source": [
    "**Note**: This can take several minutes to complete."
   ]
  },
  {
   "cell_type": "code",
   "execution_count": 8,
   "metadata": {},
   "outputs": [
    {
     "name": "stdout",
     "output_type": "stream",
     "text": [
      "[youtube] Extracting URL: https://www.youtube.com/watch?v=jGwO_UgTS7I\n",
      "[youtube] jGwO_UgTS7I: Downloading webpage\n",
      "[youtube] jGwO_UgTS7I: Downloading ios player API JSON\n",
      "[youtube] jGwO_UgTS7I: Downloading android player API JSON\n"
     ]
    },
    {
     "name": "stderr",
     "output_type": "stream",
     "text": [
      "WARNING: [youtube] Skipping player responses from android clients (got player responses for video \"aQvGIIdgFDM\" instead of \"jGwO_UgTS7I\")\n"
     ]
    },
    {
     "name": "stdout",
     "output_type": "stream",
     "text": [
      "[youtube] jGwO_UgTS7I: Downloading m3u8 information\n",
      "[info] jGwO_UgTS7I: Downloading 1 format(s): 140\n",
      "[download] docs/youtube//Stanford CS229： Machine Learning Course, Lecture 1 - Andrew Ng (Autumn 2018).m4a has already been downloaded\n",
      "[download] 100% of   69.76MiB\n",
      "[ExtractAudio] Not converting audio docs/youtube//Stanford CS229： Machine Learning Course, Lecture 1 - Andrew Ng (Autumn 2018).m4a; file is already in target format m4a\n",
      "Transcribing part 1!\n",
      "Transcribing part 2!\n",
      "Transcribing part 3!\n",
      "Transcribing part 4!\n"
     ]
    }
   ],
   "source": [
    "url = \"https://www.youtube.com/watch?v=jGwO_UgTS7I\"\n",
    "save_dir = \"docs/youtube/\"\n",
    "\n",
    "loader = GenericLoader(YoutubeAudioLoader([url], save_dir), OpenAIWhisperParser())\n",
    "docs = loader.load()"
   ]
  },
  {
   "cell_type": "code",
   "execution_count": 10,
   "metadata": {},
   "outputs": [
    {
     "name": "stdout",
     "output_type": "stream",
     "text": [
      "Welcome to CS229 Machine Learning. Uh, some of you know that this is a class that's taught at Stanford for a long time. And this is often the class that, um, I most look forward to teaching each year because this is where we've helped, I think, several generations of Stanford students become experts in machine learning, got- built many of their products and services and startups that I'm sure, many of you or probably all of you are using, uh, uh, today. Um, so what I want to do today was spend some time talking over, uh, logistics and then, uh, spend some time, you know, giving you a beginning of an intro, talk a little bit about machine learning. So about 229, um, you know, all of you have been reading about AI in the news, uh, about machine learning in the news. Um, and you've probably heard me or others say AI is the new electricity. Uh, much as the rise of electricity about 100 years ago transformed every major industry. I think AI or really we call it machine learning, but the rest of the world seems to call it AI. You know, um, machine learning and, and AI and deep learning will change the world. And I hope that through 229, uh, will give you the tools you need so that you can be many of these future titans of industries, that you can be one to go out and build, you know, help the large tech companies do the amazing things they do, or build your own startup, or go into some other industry, go, go transform healthcare, or go transform transportation, or go build a self-driving car, um, and do all of these things that, um, after this class, I think you'll be able to do. You know, um, the majority of students applying, the, the demand for AI skills, the demand for machine learning skills is so vast. I think you all know that. Uh, and I think it's because machine learning has advanced so rapidly in the last few years that there are so many opportunities, um, to apply learning algorithms, right? Both in industry as well as in academia. I think today, we have, um, the English department professors trying to apply learning algorithms to understand history better. Uh, we have lawyers trying to apply machine learning to process legal documents. Uh, and off-campus, every company, both the tech companies as well as a lot of, a lot of companies that you wouldn't consider tech companies. Everything from manufacturing companies, to healthcare companies, to logistics companies are also trying to apply machine learning. So I think that, um, uh, uh, if you look at it on a, on a factual basis, the number of people doing very valuable machine learning projects today, is much greater than it was six months ago. And six months ago, it was much greater than it was 12 months ago. And the amount of value, the amount of exciting and meaningful work being done in machine learning is, is, is very strongly going up. Um, and I think that given the rise of, you know, the, the, the amount of data we have, as well as the new machine learning tools that we have, um, it will be a long time before we run out of opportunities, you know, before, before society as a whole has enough people with a machine learning skill set. Um, so just as maybe, I don't know, 20 years ago was a good time to start working on this Internet thing. And a lot of people that started working on the Internet, like 20 years ago, had fantastic careers. I think today is a wonderful time to jump to machine learning, uh, and, and, and the number of, and the opportunities for you to do unique things that no one is, no one else is doing, right? The opportunity for you to go to a logistics company and find an exciting way to apply machine learning, uh, will be very high because chances are that logistics company has no one else even working on this because, you know, they probably can't, they, they may not be able to hire a fantastic Stanford student as a graduate of CS229, right? Because there just aren't a lot of CS229 graduates around. Um, so what I want to do today is, um, do a quick intro, talk a little about logistics, um, and then, uh, we'll, we'll spend the second half of the day, you know, giving an overview and, and talk a little bit more about machine learning, okay? And, uh, oh, and I apologize. I, I think that, uh, this room, according to that sign there, seats, what, 300 something students? Uh, I think, uh, we have, uh, uh, like, uh, not quite 800 people enrolled in this class. Um, so if there are people outside, and all, all of the classes are, uh, recorded, broadcast on the SCPD. Uh, they usually, the videos usually made available same day. So for those of you that can't get into the room, my apologies. Um, there, there were some years, um, where even I had trouble getting into the room, but I'm glad you let me in. Uh, but, but I'm- but, but hopefully you can watch- you, you'll be able to watch all of these things online shortly, obviously. Oh, I see. Yes. Yeah. I don't know. Uh, it's a bit complicated. Yeah. Uh, yeah, thank you. I think it's okay. Yeah, I, I, we could, yeah. Yeah, maybe, maybe for the next few classes, people can squeeze in and use up the NTC. So for now, it might be too complicated. Uh, okay. So quick intros. Um, oh, I'm sorry. I should have introduced myself. My name is Andrew. Uh, uh, uh, and I want to introduce some of the rest of the teaching team as well. There's a class coordinator. Um, she has been playing this role for many years now and helps, uh, keep the trains run on time and make sure that everything in class happens when it's supposed to. Uh, uh, so, so, so she'll be here. And then, uh, we're thrilled to have- you guys wanna stand up? Uh, be the co-head TAs. Our respective- the PhD students working with me, uh, and so bring a lot of, um, uh, technical experience, uh, technical experience in machine learning, as well as practical know-how on how to actually make these things work. And with the large class that we have, we have a large TA team. Um, I- maybe I won't introduce all of the TAs here today, but you meet many of them throughout this quarter. But the TAs' expertise span everything from computer vision, to natural language processing, to computer biology, to robotics. And so, um, through this quarter, as you work on your class projects, I hope that you get a lot of, uh, help and advice and mentoring from the TAs, uh, all of which- all of whom have deep expertise not just in machine learning, but often in a specific vertical application area, um, of machine learning. So depending on what your projects, we try to match you to a TA that can give you advice, uh, that most relevant to whatever project you end up working on. Um, so, you know, go with this class. I hope that after the next 10 weeks, uh, you will be an expert in machine learning. Um, it turns out that, uh, uh, you know, um, and- and I hope that after this class, you'll be able to go out and, uh, build very meaningful machine learning applications, uh, either in an academic setting where, uh, hopefully you can apply it to your problems in mechanical engineering, electrical engineering, and, uh, English, and law, and, um, uh, and- and- and education, and all of this wonderful work that happens on campus, uh, as well as after you graduate from Stanford to be able to apply it to whatever jobs you find. Um, one of the things I find very exciting about machine learning is that it's no longer a sort of pure tech company only kind of thing, right? I think that many years ago, um, machine learning, it was like a thing that, you know, the computer science department would do, and that the elite AI companies like Google, and Facebook, and Baidu, and Microsoft would do. Uh, but now, it is so pervasive that even companies that are not traditionally considered tech companies see a huge need to apply these tools, and I find a lot of the most exciting work, uh, these days. Um, and- and maybe some of you guys know my history, so I'm a little bit biased, right? I- I led the Google Brain team which helped Google transform from what was already a great company 10 years ago to today, which is, you know, a great AI company, and then I also led the AI group at Baidu, and, you know, led the company's technology and strategy to help Baidu also transform from what was already a great company many years ago to today, arguably China's greatest AI company. So having led the, you know, built the teams that led the AI transformations of two large tech companies, I- I- I feel like that's a great thing to do, uh, but even beyond tech, I think that, um, there's a lot of exciting work to do as well to help other industries, to help other sectors, uh, embrace machine learning and use these tools effectively. Um, but after this class, I hope that each one of you will be well-qualified to get a job at, uh, a shiny tech company and do machine learning there, or go into one of these other industries and do very valuable machine learning projects there. Um, and in addition, if any of you, um, are taking this class with the primary goal of, uh, being able to do research, uh, in machine learning. So- so actually some- some of you I know are PhD students. Um, I hope that this class will also leave you well-equipped to, um, be able to read and understand research papers, uh, as well as, uh, you know, be qualified to start pushing forward, um, the state of the art. Um, so let's see. Um, so today, uh, so- so just as machine learning is evolving rapidly, um, the whole teaching team would have been, uh, constantly updating CS229 as well. So, um, it is actually very interesting. I feel like the pace of progress in machine learning has accelerated. So it- it actually feels like that, uh, the amount we change the class year over year has been increasing over time. So- so if you're friends that took the class last year, you know, things are a little bit different this year because we're- we're constantly updating the class to keep up with what feels like still accelerating progress in the whole field of machine learning. Um, so- so- so- so there's some logistical changes. For example, uh, uh, we've gone from, uh, what we used to hand out paper copies of handouts, uh, that we're- we're trying to make this class digital only. Um, but let me talk a little bit about, uh, prerequisites as well as in case your friends have taken this class before, some of the differences for this year. All right. Um, so prerequisites. Um, we are going to assume that, um, all of you have a knowledge of basic computer skills and principles. Uh, so, you know, Big O notation, Q-stacks, binary trees. Hopefully, you understand what all of those concepts are. And, uh, assume that all of you have a basic familiarity with, um, uh, probability, right, that hopefully, you know, what's a random variable, what's the expected value of a random variable, what's the variance of a random variable. Um, and if- for some of you, maybe especially the SCPD students taking this remotely, if it's been, you know, some number of years since you last had a probability and statistics class, uh, we will have, uh, review sessions, uh, on- on- on Fridays, uh, where we'll go over some of this prerequisite material as well. But- but so hopefully, you know what a random variable is, what the expected value is. But if you're a little bit fuzzy on those concepts, we'll- we'll go over them again, um, at a- at a discussion section, uh, on Friday. Um, also assume that you're familiar with basic linear algebra. So hopefully, that you know what's a matrix, what's a vector, how to multiply two matrices, or multiply a matrix and a vector. Um, if you know what is an eigenvector, then that's even better. Uh, if you're not quite sure what an eigenvector is, we'll go over it, but- but you- you- you, but, uh, uh, yeah, we'll- we'll go over it, I guess. Um, and then, um, a large part of this class, uh, uh, is, um, having you practice these ideas, uh, through the homeworks, uh, as well as I'll mention later, a, uh, open-ended project. And so, um, one, uh, there- we- we've actually, uh, until now, we used to use, uh, MATLAB, uh, and Octave for their programming assignments. Uh, but this year, we're trying to shift the programming assignments to, uh, Python. Um, and so, um, I think for a long time, uh, even today, you know, I sometimes use Octave to prototype because the syntax for Octave is so nice, and just run, you know, very simple experiments very quickly. But I think the machine learning world, um, is, you know, really migrating, I think, from, um, MATLAB Python world to increasing- excuse me, MATLAB Octave world to increasingly a Python maybe, and- and then eventually for production, Java C++ kind of world. And so, uh, we're rewriting a lot of the assignments for this class this quarter, um, have been- have been driving that process, uh, so that- so that this quarter, you could do more of the assignments, uh, uh, maybe most- maybe all of the assignments in, um, Python, uh, NumPy instead. Um, now, a note on the honor codes, um, we asked that, you know, we- we actually encourage you to form study groups. Uh, so- so, you know, I've been, um, fascinated by education for a long time. It's been a long time studying education and pedagogy, and how instructors like us can help support you to learn more efficiently. And one of the lessons I've learned from the educational research literature is that, for highly technical classes like this, if you form study groups, uh, you will probably have an easier time, right? So- so CS509, we go for the highly technical material. There's a lot of math, some of the programs are hard, and if you have a group of friends to study with, uh, you probably have an easier time, uh, uh, because you can ask each other questions and work together to help each other. Um, where we ask you to draw the line, or what we ask you to- to- to do relative to the standard, uh, honor codes is, um, we ask that you do the homework problems by yourself, right? Uh, and- and- and more specifically, um, it's okay to discuss the homework problems with friends, but if you, um, but after discussing homework problems with friends, we ask you to go back and write up the solutions by yourself, uh, without referring to notes that, you know, you and your friends had developed together. Okay? Um, the classes honor code is written clearly on the class, um, handouts posted digitally on the website. So if you ever have any questions about what is allowed collaboration and what isn't allowed, uh, please refer to that written document on the course website where we describe this more clearly. But, um, all the respect for the Stanford honor code as well as for, uh, uh, you know, for- for- for students kind of doing their own work. We ask you to basically do your own work, uh, for the, um, it's okay to discuss it, but after discussing homework problems with friends, ultimately we ask you to write up your problems by yourself so that the homework submissions reflect your own work, right? Um, and I care about this because it turns out that, uh, having CS229, you know, CS229 is one of those classes that employers recognize. Uh, uh, I don't know if you guys know, but there have been, um, companies that have put up job ads that say stuff like, so long as you got- so long as you complete the CS229, we guarantee you get an interview, right? I've- I've seen stuff like that. And so I think, you know, in order to- to maintain that sanctity of what it means to be a CS229 completer, I think, um, I ask that all of you sort of really do your own work, um, or stay within the bounds of accepted- of acceptable collaboration relative to the honor codes. Um, let's see. And I think that, um, uh, if, uh, you know what? This is, um, yeah. And I think that, uh, one of the best parts of CS229, it turns out is, um, excuse me. So, sorry, I'm gonna try looking for my mouse cursor. Uh, all right. Sorry about that. My, my, my displays are not mirrorizing. So this is a little bit awkward. Um, so one of the best parts of the class is, oh, shoot, sorry about that. All right, never mind. I won't do this. Um, you could do that- you could do yourself online later. Um, yeah. I started using- I started using Firefox recently in addition to Chrome. Anyway, it's just a mix-up. Um, one of the best parts of, um, the class is, um, the class project. Um, and so, you know, one of the goals of the class is to leave you well-qualified to do a meaningful machine learning project. And so, uh, one of the best ways to make sure you have that skill set is through this class, and hopefully with the help of some of the TAs. Uh, we want to support you to work on a small group to complete a meaningful machine learning project. Um, and so one thing I hope you start doing, you know, later today, uh, is to start brainstorming maybe with your friends, um, some of the, some of the class projects you might work on. Uh, and the most common class project that, you know, people do in CSUSD9 is to pick an area, pick an application that excites you and to apply machine learning to it, and see if you can build a good machine learning system for some application area. And so, um, if you go to the course website, you know, cs229.stanford.edu and look at previous year's projects, you- you- you see machine learning projects applied to pretty much, you know, pretty much every imaginable application under the sun. Everything from, I don't know, diagnosing cancer to creating art to, uh, lots of, um, uh, projects applied to other areas of engineering, uh, applying to application areas in EE or mechanical engineering or civil engineering or earthquake engineering and so on, uh, to applying it to understand literature, to applying it to, um, uh, I don't know. And- and- and- and- and so, uh, if you look at the previous year's projects, many of which are posted on the course website, you can use that as inspiration to see the types of projects students complete- completing this class are able to do. And I also encourage you to, um, uh, you can look at that for inspiration, you know, to- to get a sense of what you'll be able to do at the conclusion of this class, and also see if, uh, looking at previous year's projects gives you inspiration for what, um, you might do yourself. Uh, so we ask you to- we- we invite you, I guess, to do class projects in small groups. And so, um, after class today, also encourage you to start making friends in the class, both for the purpose of forming study groups as well as for the purpose of maybe finding a small group to do a class project with. Um, uh, we ask you to form project groups of, um, up to size three. Uh, uh, most project groups end up being size two or three. Um, if you insist on doing it by yourself, right, without any partners, that's actually okay too. You're welcome to do that. But, uh, but- but I think often, you know, having one or two others to work with may give you an easier time. And, uh, for projects of exceptional scope, if you have a very, very large project that just cannot be done by three people, um, uh, sometimes, you know, let us know and we're open to, uh, uh, with- with- to some project groups of size four. But our expectation, but we do hold projects, you know, with a group of four to a higher standard than projects of size one to three. Right. So- so what that means is that if your project team size is, uh, one, two, or three persons, the grading is one criteria. If your project group is, uh, bigger than three persons, we use a stricter criteria when it comes to grading class projects.\n"
     ]
    }
   ],
   "source": [
    "print(docs[0].page_content)"
   ]
  },
  {
   "cell_type": "markdown",
   "metadata": {},
   "source": [
    "## URLs"
   ]
  },
  {
   "cell_type": "code",
   "execution_count": 35,
   "metadata": {},
   "outputs": [],
   "source": [
    "from langchain.document_loaders import WebBaseLoader\n",
    "\n",
    "# note make sure that you use raw .md link\n",
    "loader = WebBaseLoader(\n",
    "    \"https://raw.githubusercontent.com/RutamBhagat/code_wizard_frontend/main/README.md\"\n",
    ")"
   ]
  },
  {
   "cell_type": "code",
   "execution_count": 36,
   "metadata": {},
   "outputs": [],
   "source": [
    "docs = loader.load()"
   ]
  },
  {
   "cell_type": "code",
   "execution_count": 38,
   "metadata": {},
   "outputs": [
    {
     "name": "stdout",
     "output_type": "stream",
     "text": [
      "# Code Wizard: LangChain Documentation AI Chatbot\n",
      "\n",
      "Code Wizard is a super cool AI chatbot that helps you learn and use the LangChain Documentation in an interactive way. Just ask it anything about LangChain concepts or code, and it'll break it down for you in an easy-to-understand way. Built with Next.js, FastAPI, LangChain, and a local LLaMA model.\n",
      "\n",
      "**Link to project:** https://code-wizard-frontend.vercel.app/\n",
      "\n",
      "\n",
      "https://github.com/RutamBhagat/code_wizard_frontend/assets/72187009/353ced90-f408-44ae-b633-c30f20dbd28f\n",
      "\n",
      "\n",
      "## How It's Made\n",
      "\n",
      "**Tech used:** LangChain, LLaMA, Next.js, Typescript, FastAPI\n",
      "\n",
      "Code Wizard is a full-stack app that combines some cutting edge tech. The front-end is built with Next.js and React, which makes it fast and snappy. The back-end uses FastAPI to host the LangChain pipelines and APIs.\n",
      "\n",
      "The core is powered by LangChain, which lets us build cool applications with large language models like LLaMA. Code Wizard takes the LangChain documentation, chunks it up, and stores it in a vector database using embeddings.\n",
      "\n",
      "When you ask Code Wizard a question, it uses LangChain agents to search the vector database for relevant doc chunks. It then generates a response by combining those chunks with the LLaMA 3.\n",
      "\n",
      "The front-end has a slick chat interface built with React, so you can have natural conversations with the AI. It also renders Markdown and code snippets nicely.\n",
      "\n",
      "## Optimizations\n",
      "\n",
      "To make Code Wizard performant and scalable, it uses some cool optimizations:\n",
      "\n",
      "1. **Caching**: Frequently asked questions and their responses are cached to improve latency.\n",
      "2. **Async Processing**: The LangChain pipelines run asynchronously to handle multiple requests concurrently.\n",
      "3. **Model Optimization**: The LLaMA model is optimized for efficient CPU inference, allowing Code Wizard to run on modest hardware.\n",
      "\n",
      "## Lessons Learned\n",
      "\n",
      "Building Code Wizard was an incredible learning experience that taught me so much about LangChain, large language models, and modern web development. Some key lessons:\n",
      "\n",
      "- How to effectively integrate LangChain components like agents, memory, and vector stores.\n",
      "- Optimizing LLM performance through techniques like quantization and CPU offloading.\n",
      "- Designing intuitive conversational UIs that feel natural and engaging.\n",
      "- Leveraging the latest web frameworks like Next.js and FastAPI for building scalable apps.\n",
      "\n",
      "## Examples\n",
      "\n",
      "Check out these example conversations with Code Wizard:\n",
      "\n",
      "**Understanding Langchain agents:**\n",
      "![image](https://github.com/RutamBhagat/code_wizard_backend/assets/72187009/c712f75d-00dd-4c15-a8f9-034c55f43b28)\n",
      "\n",
      "**What is Langchain:**\n",
      "![Screenshot 2024-04-27 095418](https://github.com/RutamBhagat/code_wizard_backend/assets/72187009/38f3bcd2-e135-487b-a81e-5563302f7b04)\n",
      "\n",
      "**Explaining LangChain Expression Language:**\n",
      "![Screenshot 2024-04-27 095430](https://github.com/RutamBhagat/code_wizard_backend/assets/72187009/fb16a35e-d619-4332-a3c1-3cc211069c1f)\n",
      "\n",
      "\n"
     ]
    }
   ],
   "source": [
    "print(docs[0].page_content)"
   ]
  },
  {
   "cell_type": "markdown",
   "metadata": {},
   "source": [
    "## Notion"
   ]
  },
  {
   "cell_type": "markdown",
   "metadata": {},
   "source": [
    "Follow steps [here](https://python.langchain.com/docs/modules/data_connection/document_loaders/integrations/notion) for an example Notion site such as [this one](https://yolospace.notion.site/Blendle-s-Employee-Handbook-e31bff7da17346ee99f531087d8b133f):\n",
    "\n",
    "* Duplicate the page into your own Notion space and export as `Markdown / CSV`.\n",
    "* Unzip it and save it as a folder that contains the markdown file for the Notion page.\n",
    " "
   ]
  },
  {
   "cell_type": "markdown",
   "metadata": {},
   "source": [
    "![image.png](./img/image.png)"
   ]
  },
  {
   "cell_type": "code",
   "execution_count": 39,
   "metadata": {},
   "outputs": [],
   "source": [
    "from langchain.document_loaders import NotionDirectoryLoader\n",
    "\n",
    "loader = NotionDirectoryLoader(\"docs/Notion_DB\")\n",
    "docs = loader.load()"
   ]
  },
  {
   "cell_type": "code",
   "execution_count": 40,
   "metadata": {},
   "outputs": [
    {
     "name": "stdout",
     "output_type": "stream",
     "text": [
      "# Blendle's Employee Handbook\n",
      "\n",
      "This is a living document with everything we've learned working with people while running a startup. And, of course, we continue to learn. Therefore it's a document that will continue to change. \n",
      "\n",
      "**Everything related to working at Blendle and the people of Blendle, made public.**\n",
      "\n",
      "These are the lessons from three years of working with the people of Blendle. It contains everything from [how our leaders lead](https://www.notion.so/ecfb7e647136468a9a0a32f1771a8f52?pvs=21) to [how we increase salaries](https://www.notion.so/Salary-Review-e11b6161c6d34f5c9568bb3e83ed96b6?pvs=21), from [how we hire](https://www.notion.so/Hiring-451bbcfe8d9b49438c0633326bb7af0a?pvs=21) and [fire](https://www.notion.so/Firing-5567687a2000496b8412e53cd58eed9d?pvs=21) to [how we think people should give each other feedback](https://www.notion.so/Our-Feedback-Process-eb64f1de796b4350aeab3bc068e3801f?pvs=21) — and much more.\n",
      "\n",
      "We've made this document public because we want to learn from you. We're very much interested in your feedback (including weeding out typo's and Dunglish ;)). Email us at hr@blendle.com. If you're starting your own company or if you're curious as to how we do things at Blendle, we hope that our employee handbook inspires you.\n",
      "\n",
      "If you want to work at Blendle you can check our [job ads here](https://blendle.homerun.co/). If you want to be kept in the loop about Blendle, you can sign up for [our behind the scenes newsletter](https://blendle.homerun.co/yes-keep-me-posted/tr/apply?token=8092d4128c306003d97dd3821bad06f2).\n",
      "\n",
      "## Blendle general\n",
      "\n",
      "*Information gap closing in 3... 2... 1...*\n",
      "\n",
      "---\n",
      "\n",
      "[To Do/Read in your first week](Blendle's%20Employee%20Handbook%20e367aa77e225482c849111687e114a56/To%20Do%20Read%20in%20your%20first%20week%2017fbb01dc37b4118943b1db905cd57f2.md)\n",
      "\n",
      "[History](Blendle's%20Employee%20Handbook%20e367aa77e225482c849111687e114a56/History%20ac6441b1b7f7412796b072168db92fd2.md)\n",
      "\n",
      "[DNA & culture](Blendle's%20Employee%20Handbook%20e367aa77e225482c849111687e114a56/DNA%20&%20culture%20b5db7bb937384f809a81e84059050b3f.md)\n",
      "\n",
      "[General & practical ](Blendle's%20Employee%20Handbook%20e367aa77e225482c849111687e114a56/General%20&%20practical%20b8d9412f67c34a3e996bf4d3f390de5e.md)\n",
      "\n",
      "## People operations\n",
      "\n",
      "*You can tell a company's DNA by looking at how they deal with the practical stuff.*  \n",
      "\n",
      "---\n",
      "\n",
      "[Office](Blendle's%20Employee%20Handbook%20e367aa77e225482c849111687e114a56/Office%204e7a0f0ad8e34c50bba69cfd9f779038.md)\n",
      "\n",
      "[Time off: holidays and national holidays](Blendle's%20Employee%20Handbook%20e367aa77e225482c849111687e114a56/Time%20off%20holidays%20and%20national%20holidays%20b1b4abd60ae547e8b4088818da9e92e7.md)\n",
      "\n",
      "[Calling in sick/better](Blendle's%20Employee%20Handbook%20e367aa77e225482c849111687e114a56/Calling%20in%20sick%20better%204337662f835a4a00933b76b254758bc4.md)\n",
      "\n",
      "[Perks and benefits](Blendle's%20Employee%20Handbook%20e367aa77e225482c849111687e114a56/Perks%20and%20benefits%206b81f8a3deb5408a8385472cd797a3f7.md)\n",
      "\n",
      "[Travel costs and reimbursements](Blendle's%20Employee%20Handbook%20e367aa77e225482c849111687e114a56/Travel%20costs%20and%20reimbursements%204df295267aa74fe1a7fa1361571b6fbc.md)\n",
      "\n",
      "[Parenthood](Blendle's%20Employee%20Handbook%20e367aa77e225482c849111687e114a56/Parenthood%208cd588eff0984cdd983a9eea420c9e76.md)\n",
      "\n",
      "## People topics\n",
      "\n",
      "*Themes we care about.*\n",
      "\n",
      "---\n",
      "\n",
      "[Blendle Social Code](Blendle's%20Employee%20Handbook%20e367aa77e225482c849111687e114a56/Blendle%20Social%20Code%20d10a41a7746c4bd2ab4c3fe6db803f69.md)\n",
      "\n",
      "[Diversity and inclusion](Blendle's%20Employee%20Handbook%20e367aa77e225482c849111687e114a56/Diversity%20and%20inclusion%20dbd07fc1bf0849019f3f3ed242190055.md)\n",
      "\n",
      "[#letstalkaboutstress](Blendle's%20Employee%20Handbook%20e367aa77e225482c849111687e114a56/#letstalkaboutstress%20b814c542d1744bbb83bf7e1d63e4bdda.md)\n",
      "\n",
      "## Feedback and development\n",
      "\n",
      "*The number 1 reason for people to work at Blendle is growth and learning from smart people.*\n",
      "\n",
      "---\n",
      "\n",
      "[Your 1st month ](Blendle's%20Employee%20Handbook%20e367aa77e225482c849111687e114a56/Your%201st%20month%20c6f4af5517c84d4087e635587961fb0e.md)\n",
      "\n",
      "[Goals](Blendle's%20Employee%20Handbook%20e367aa77e225482c849111687e114a56/Goals%207258fc51173d42a79621ef9b3851e719.md)\n",
      "\n",
      "[Feedback cycle](Blendle's%20Employee%20Handbook%20e367aa77e225482c849111687e114a56/Feedback%20cycle%20e838f6e605064170bb0611f538915cb7.md)\n",
      "\n",
      "[The Matrix™ (job profiles)](Blendle's%20Employee%20Handbook%20e367aa77e225482c849111687e114a56/The%20Matrix%E2%84%A2%20(job%20profiles)%20df18f2beab014a7e89f442d0e459ad73.md)\n",
      "\n",
      "[Blendle library](Blendle's%20Employee%20Handbook%20e367aa77e225482c849111687e114a56/Blendle%20library%2064396b41895842d680d118f4ec17d346.md)\n",
      "\n",
      "## **Hiring**\n",
      "\n",
      "*The coolest and most impactful thing when done right.*\n",
      "\n",
      "---\n",
      "\n",
      "[Rating systems](Blendle's%20Employee%20Handbook%20e367aa77e225482c849111687e114a56/Rating%20systems%20036cb477bab342349ff0ceb54ab21478.md)\n",
      "\n",
      "[Getting people in (branding&sourcing)](Blendle's%20Employee%20Handbook%20e367aa77e225482c849111687e114a56/Getting%20people%20in%20(branding&sourcing)%20e050e6613efe4305b98d6b7b8c8916a3.md)\n",
      "\n",
      "[Highly Skilled Migrants and relocation](Blendle's%20Employee%20Handbook%20e367aa77e225482c849111687e114a56/Highly%20Skilled%20Migrants%20and%20relocation%204c00141c18fd472fb5770891381b65e2.md)\n",
      "\n",
      "## How to lead at Blendle\n",
      "\n",
      "*Here are some tips and tools to help you become a great leader.*\n",
      "\n",
      "---\n",
      "\n",
      "[How to lead at Blendle ](Blendle's%20Employee%20Handbook%20e367aa77e225482c849111687e114a56/How%20to%20lead%20at%20Blendle%20404698936d274095856523c94c396a62.md)\n",
      "\n",
      "[Your check-list](Blendle's%20Employee%20Handbook%20e367aa77e225482c849111687e114a56/Your%20check-list%2007455ff3b1364229bfc1ae3462e58030.md)\n",
      "\n",
      "[Leading Feedback ](Blendle's%20Employee%20Handbook%20e367aa77e225482c849111687e114a56/Leading%20Feedback%209ad2513f7ea14b7a8d2762db7c0b70c0.md)\n",
      "\n",
      "[Salary talks](Blendle's%20Employee%20Handbook%20e367aa77e225482c849111687e114a56/Salary%20talks%203c0befca9272403a8a045cace8686d8d.md)\n",
      "\n",
      "[Hiring ](Blendle's%20Employee%20Handbook%20e367aa77e225482c849111687e114a56/Hiring%208c7049f20ed74df982f8e05bc3dca30b.md)\n",
      "\n",
      "[Firing](Blendle's%20Employee%20Handbook%20e367aa77e225482c849111687e114a56/Firing%200a07fff173404adebf98ea7ef3a8eb7d.md)\n",
      "\n",
      "[Party and study budget](Blendle's%20Employee%20Handbook%20e367aa77e225482c849111687e114a56/Party%20and%20study%20budget%2049f8b0f9dfbf45ea8ed15dd11c99e28d.md)\n",
      "\n",
      "[Holidays](Blendle's%20Employee%20Handbook%20e367aa77e225482c849111687e114a56/Holidays%20629b666201b9416684d1d36ce6c63713.md)\n",
      "\n",
      "[Sickness absence](Blendle's%20Employee%20Handbook%20e367aa77e225482c849111687e114a56/Sickness%20absence%2075f3765b7698473aa45171b909ff1e65.md)\n",
      "\n",
      "[Personal User Guide](Blendle's%20Employee%20Handbook%20e367aa77e225482c849111687e114a56/Personal%20User%20Guide%2097a8516bc2cd44b7a565798e954a68a3.md)\n",
      "\n",
      "[Soft shizzle](Blendle's%20Employee%20Handbook%20e367aa77e225482c849111687e114a56/Soft%20shizzle%207c03996eeb634b12ad9093839cd11bde.md)\n",
      "\n",
      "## About this document\n",
      "\n",
      "---\n",
      "\n",
      "*Lessons from three years of HR*\n",
      "\n",
      "[About this document and the author](Blendle's%20Employee%20Handbook%20e367aa77e225482c849111687e114a56/About%20this%20document%20and%20the%20author%208c7a88f91b1d479ea729a6f47ef56d0c.md)\n"
     ]
    }
   ],
   "source": [
    "print(docs[0].page_content)"
   ]
  },
  {
   "cell_type": "code",
   "execution_count": 41,
   "metadata": {},
   "outputs": [
    {
     "data": {
      "text/plain": [
       "{'source': \"docs/Notion_DB/Blendle's Employee Handbook e367aa77e225482c849111687e114a56.md\"}"
      ]
     },
     "execution_count": 41,
     "metadata": {},
     "output_type": "execute_result"
    }
   ],
   "source": [
    "docs[0].metadata"
   ]
  }
 ],
 "metadata": {
  "kernelspec": {
   "display_name": ".venv",
   "language": "python",
   "name": "python3"
  },
  "language_info": {
   "codemirror_mode": {
    "name": "ipython",
    "version": 3
   },
   "file_extension": ".py",
   "mimetype": "text/x-python",
   "name": "python",
   "nbconvert_exporter": "python",
   "pygments_lexer": "ipython3",
   "version": "3.11.9"
  }
 },
 "nbformat": 4,
 "nbformat_minor": 2
}
